{
 "cells": [
  {
   "cell_type": "code",
   "execution_count": 3,
   "metadata": {},
   "outputs": [
    {
     "data": {
      "text/plain": [
       "'C:\\\\spark\\\\spark-2.4.5-bin-hadoop2.7'"
      ]
     },
     "execution_count": 3,
     "metadata": {},
     "output_type": "execute_result"
    }
   ],
   "source": [
    "import findspark\n",
    "findspark.init()\n",
    "findspark.find()\n",
    "import pyspark\n",
    "findspark.find()"
   ]
  },
  {
   "cell_type": "code",
   "execution_count": 4,
   "metadata": {},
   "outputs": [],
   "source": [
    "data_path = 'C://Users/Ram Ganesh/Downloads/datascience_challenge/'"
   ]
  },
  {
   "cell_type": "code",
   "execution_count": 5,
   "metadata": {},
   "outputs": [],
   "source": [
    "from pyspark import SparkContext, SparkConf\n",
    "from pyspark.sql import SparkSession\n",
    "conf = pyspark.SparkConf().setAppName('appName').setMaster('local')\n",
    "sc = pyspark.SparkContext(conf=conf)\n",
    "spark = SparkSession(sc)\n"
   ]
  },
  {
   "cell_type": "code",
   "execution_count": 48,
   "metadata": {},
   "outputs": [],
   "source": [
    "#Read the input data\n",
    "category_df = spark.read.csv(data_path + 'Category.tsv/Category.tsv', sep='\\t', header=True)\n",
    "location_df = spark.read.csv(data_path + 'Location.tsv/Location.tsv', sep='\\t', header=True)\n",
    "phonereq_df = spark.read.csv(data_path + 'PhoneRequestsStream.tsv/PhoneRequestsStream.tsv', sep='\\t', header=True)\n",
    "search_df   = spark.read.csv(data_path + 'Search/SearchInfo.tsv', sep='\\t', header=True)\n",
    "visits_df   = spark.read.csv(data_path + 'Visits/VisitsStream.tsv', sep='\\t', header=True)\n",
    "adsinfo_df  = spark.read.csv(data_path + 'AdsInfo/AdsInfo.tsv', sep='\\t', header=True)\n",
    "users_df    = spark.read.csv(data_path + 'Users/UserInfo.tsv', sep='\\t', header=True)\n",
    "train_df    = spark.read.csv(data_path + 'trainSearchStream.tsv/trainSearchStream.tsv', sep='\\t', header=True)"
   ]
  },
  {
   "cell_type": "code",
   "execution_count": 49,
   "metadata": {},
   "outputs": [
    {
     "name": "stdout",
     "output_type": "stream",
     "text": [
      "+----------+-----+----------------+-------------+\n",
      "|CategoryID|Level|ParentCategoryID|SubcategoryID|\n",
      "+----------+-----+----------------+-------------+\n",
      "|         0|    1|              10|           45|\n",
      "|         1|    2|               9|           45|\n",
      "|         2|    3|              12|            5|\n",
      "|         3|    3|               9|           25|\n",
      "|         4|    3|               2|           39|\n",
      "+----------+-----+----------------+-------------+\n",
      "only showing top 5 rows\n",
      "\n",
      "+----------+-----+--------+------+\n",
      "|LocationID|Level|RegionID|CityID|\n",
      "+----------+-----+--------+------+\n",
      "|         7|    3|      83|  2386|\n",
      "|        23|    3|      28|  3224|\n",
      "|        26|    3|      41|  1316|\n",
      "|        30|    3|      63|  2565|\n",
      "|        32|    3|      28|  2819|\n",
      "+----------+-----+--------+------+\n",
      "only showing top 5 rows\n",
      "\n",
      "+-------+-------+--------+--------------------+\n",
      "| UserID|   IPID|    AdID|    PhoneRequestDate|\n",
      "+-------+-------+--------+--------------------+\n",
      "| 352278|2135799|11720717|2015-04-25 00:00:...|\n",
      "| 392193| 298552|32569552|2015-04-25 00:00:...|\n",
      "| 670687|1426242|22443326|2015-04-25 00:00:...|\n",
      "|1504499| 437051|24774519|2015-04-25 00:00:...|\n",
      "|2648778| 818978|16455042|2015-04-25 00:00:...|\n",
      "+-------+-------+--------+--------------------+\n",
      "only showing top 5 rows\n",
      "\n",
      "+--------+--------------------+-------+-------+--------------+-----------+----------+----------+--------------------+\n",
      "|SearchID|          SearchDate|   IPID| UserID|IsUserLoggedOn|SearchQuery|LocationID|CategoryID|        SearchParams|\n",
      "+--------+--------------------+-------+-------+--------------+-----------+----------+----------+--------------------+\n",
      "|       1|2015-05-18 19:54:...|1717090|3640266|             0|       null|      1729|         5|                null|\n",
      "|       2|2015-05-12 14:21:...|1731568| 769304|             0|       null|       697|        50|                null|\n",
      "|       3|2015-05-12 07:09:...| 793143| 640089|             0|       null|      1261|        12|                null|\n",
      "|       4|2015-05-10 18:11:...| 898705|3573776|             0|       null|      3960|        22|{83:'Обувь', 175:...|\n",
      "|       5|2015-04-25 13:04:...|2009707| 320674|             0|       null|       547|         1|                null|\n",
      "+--------+--------------------+-------+-------+--------------+-----------+----------+----------+--------------------+\n",
      "only showing top 5 rows\n",
      "\n",
      "+------+-------+--------+--------------------+\n",
      "|UserID|   IPID|    AdID|            ViewDate|\n",
      "+------+-------+--------+--------------------+\n",
      "| 59703|1259356|  469877|2015-04-25 00:00:...|\n",
      "|154389|1846749|27252551|2015-04-25 00:00:...|\n",
      "|218628|2108380|31685325|2015-04-25 00:00:...|\n",
      "|231535| 837110|18827716|2015-04-25 00:00:...|\n",
      "|282306|1654210|29363673|2015-04-25 00:00:...|\n",
      "+------+-------+--------+--------------------+\n",
      "only showing top 5 rows\n",
      "\n",
      "+----+----------+----------+--------------------+------+--------------------+---------+\n",
      "|AdID|LocationID|CategoryID|              Params| Price|               Title|IsContext|\n",
      "+----+----------+----------+--------------------+------+--------------------+---------+\n",
      "|   1|       343|        43|{1283:'С пробегом...|160000| Toyota Estima, 1993|        0|\n",
      "|   2|       992|        34|{817:'Кузов', 5:'...|   750|Передние брызгови...|        0|\n",
      "|   3|      3771|        53|{181:'Промышленное'}| 18000|            Дровокол|        0|\n",
      "|   4|      4294|        57|{130:'Приборы и а...|  1500|Продам ходули скл...|        0|\n",
      "|   5|      1344|        34|{817:'Автосвет', ...|   800|Поворотник R - Ca...|        0|\n",
      "+----+----------+----------+--------------------+------+--------------------+---------+\n",
      "only showing top 5 rows\n",
      "\n",
      "+------+-----------+-------------+------------+-----------------+\n",
      "|UserID|UserAgentID|UserAgentOSID|UserDeviceID|UserAgentFamilyID|\n",
      "+------+-----------+-------------+------------+-----------------+\n",
      "|     1|      44073|           30|        2019|                9|\n",
      "|     2|      12505|           20|        2014|               85|\n",
      "|     3|      24256|           20|        2014|               64|\n",
      "|     4|      57133|           20|        2014|               25|\n",
      "|     5|      57133|           20|        2014|               25|\n",
      "+------+-----------+-------------+------------+-----------------+\n",
      "only showing top 5 rows\n",
      "\n",
      "+--------+--------+--------+----------+--------+-------+\n",
      "|SearchID|    AdID|Position|ObjectType| HistCTR|IsClick|\n",
      "+--------+--------+--------+----------+--------+-------+\n",
      "|       2|11441863|       1|         3|0.001804|      0|\n",
      "|       2|22968355|       7|         3|0.004723|      0|\n",
      "|       3|  212187|       7|         3|0.029701|      0|\n",
      "|       3|34084553|       1|         3|0.004300|      0|\n",
      "|       3|36256251|       2|         2|    null|   null|\n",
      "+--------+--------+--------+----------+--------+-------+\n",
      "only showing top 5 rows\n",
      "\n"
     ]
    }
   ],
   "source": [
    "#Print sample of data\n",
    "category_df.show(5)\n",
    "location_df.show(5)\n",
    "phonereq_df.show(5)\n",
    "search_df.show(5)\n",
    "visits_df.show(5)\n",
    "adsinfo_df.show(5)\n",
    "users_df.show(5)\n",
    "train_df.show(5)"
   ]
  },
  {
   "cell_type": "code",
   "execution_count": null,
   "metadata": {},
   "outputs": [],
   "source": [
    "train_df.groupBy('IsClick').count().show()\n",
    "#+-------+---------+\n",
    "#|IsClick|    count|\n",
    "#+-------+---------+\n",
    "#|      0|189011446|\n",
    "#|   null|202199213|\n",
    "#|      1|  1146289|\n",
    "#+-------+---------+\n",
    "#filter and store only the context data\n",
    "#train_df.filter(train_df.IsClick != 'null').write.csv(data_path+'results/filtered_train_data.csv', header=True, sep='\\t')\n",
    "filtered_train_df    = spark.read.csv(data_path + 'results/filtered_train_data.csv', sep='\\t', header=True)\n",
    "#+-------+---------+\n",
    "#|IsClick|    count|\n",
    "#+-------+---------+\n",
    "#|      0|189011446|\n",
    "#|      1|  1146289|\n",
    "#+-------+---------+"
   ]
  },
  {
   "cell_type": "code",
   "execution_count": 10,
   "metadata": {},
   "outputs": [
    {
     "data": {
      "image/png": "[encoded data removed]",
      "text/plain": [
       "<Figure size 432x288 with 1 Axes>"
      ]
     },
     "metadata": {
      "needs_background": "light"
     },
     "output_type": "display_data"
    }
   ],
   "source": [
    "import matplotlib.pyplot as plt\n",
    "%matplotlib inline\n",
    "fig = plt.figure()\n",
    "ax = fig.add_axes([0,0,1,1])\n",
    "IsClick = ['0', '1', 'null']\n",
    "count = [189011446,1146289,202199213]\n",
    "ax.bar(IsClick,count)\n",
    "plt.ylabel('Count')\n",
    "plt.xlabel('Is Click')\n",
    "plt.title('Click count')\n",
    "plt.show()"
   ]
  },
  {
   "cell_type": "code",
   "execution_count": null,
   "metadata": {},
   "outputs": [],
   "source": [
    "from pyspark.sql.types import IntegerType\n",
    "import pyspark.sql.functions as psf\n",
    "filtered_train_df = filtered_train_df.withColumn(\"IsClick\", filtered_train_df[\"IsClick\"].cast(IntegerType()))\n",
    "conv_per_context = filtered_train_df.groupBy(\"ObjectType\").agg(psf.sum(\"IsClick\"),psf.count(\"IsClick\"))\n",
    "conv_per_context_pd = conv_per_context.toPandas()\n",
    "#  ObjectType  sum(IsClick)  count(IsClick)   ctr\n",
    "#0          3       1146289       190157735   0.6028\n",
    "conv_per_position = filtered_train_df.groupBy(\"Position\").agg(psf.sum(\"IsClick\"),psf.count(\"IsClick\"))\n",
    "conv_per_position_pd = conv_per_position.toPandas()\n",
    "#  Position  sum(IsClick)  count(IsClick)    ctr\n",
    "#0        7        372904        82294271    0.453\n",
    "#1        1        773385       107863464    0.717"
   ]
  },
  {
   "cell_type": "code",
   "execution_count": 9,
   "metadata": {},
   "outputs": [
    {
     "data": {
      "image/png": "[encoded data removed]",
      "text/plain": [
       "<Figure size 432x288 with 1 Axes>"
      ]
     },
     "metadata": {
      "needs_background": "light"
     },
     "output_type": "display_data"
    }
   ],
   "source": [
    "fig = plt.figure()\n",
    "ax = fig.add_axes([0,0,1,1])\n",
    "Position = ['7', '1']\n",
    "CTR = [0.453,0.717]\n",
    "ax.bar(Position,CTR)\n",
    "plt.ylabel('CTR')\n",
    "plt.xlabel('Position')\n",
    "plt.title('Position vs CTR')\n",
    "plt.show()"
   ]
  },
  {
   "cell_type": "code",
   "execution_count": 14,
   "metadata": {},
   "outputs": [],
   "source": [
    "#+----------+---------+\n",
    "#|ObjectType|    count|\n",
    "#+----------+---------+\n",
    "#|         3|190157735|    \n",
    "#|         1|162668459|    \n",
    "#|         2| 39530754|    \n",
    "#+----------+---------+\n"
   ]
  },
  {
   "cell_type": "code",
   "execution_count": 8,
   "metadata": {},
   "outputs": [
    {
     "data": {
      "image/png": "[encoded data removed]",
      "text/plain": [
       "<Figure size 432x288 with 1 Axes>"
      ]
     },
     "metadata": {
      "needs_background": "light"
     },
     "output_type": "display_data"
    }
   ],
   "source": [
    "fig = plt.figure()\n",
    "ax = fig.add_axes([0,0,1,1])\n",
    "Object_type = ['1', '2','3']\n",
    "count = [162668459,39530754, 190157735]\n",
    "ax.bar(Object_type,count)\n",
    "plt.ylabel('Count')\n",
    "plt.xlabel('Object Type')\n",
    "plt.title('Object Type vs Count')\n",
    "plt.show()"
   ]
  },
  {
   "cell_type": "code",
   "execution_count": null,
   "metadata": {},
   "outputs": [],
   "source": [
    "#Rename columns\n",
    "location_df = location_df.withColumnRenamed('Level', 'Loc_level')\n",
    "category_df = category_df.withColumnRenamed('Level', 'Cat_level')"
   ]
  },
  {
   "cell_type": "code",
   "execution_count": null,
   "metadata": {},
   "outputs": [],
   "source": [
    "#Join all the tables\n",
    "train_adinfo = filtered_train_df.join(adsinfo_df, ['AdID'], how='inner')\n",
    "train_adinfo_loc = train_adinfo.join(location_df, ['LocationID'], how='left')\n",
    "train_adinfo_loc_cat = train_adinfo_loc.join(category_df, ['CategoryID'], how='left')\n",
    "train_adinfo_loc_cat.write.csv(data_path + 'results/train_adinfo_loc_cat.csv', header=True)"
   ]
  },
  {
   "cell_type": "code",
   "execution_count": null,
   "metadata": {},
   "outputs": [],
   "source": [
    "train_adinfo = spark.read.csv(data_path + 'results/final_data2.csv', header=True)\n",
    "train_adinfo_loc_cat = spark.read.csv(data_path + 'results/train_adinfo_loc_cat.csv', header=True)\n",
    "#+----------+---------+\n",
    "#|LocationID|    count|\n",
    "#+----------+---------+\n",
    "#|      null|190157735|\n",
    "#+----------+---------+\n",
    "search_df = search_df.withColumnRenamed('LocationID', 'search_LocationID').withColumnRenamed('CategoryID', 'search_CategoryID')\n",
    "search_df = search_df.drop('SearchQuery','SearchParams','IPID')\n",
    "final_df = train_adinfo_loc_cat.drop('Params', 'Title','LocationID','Loc_level','RegionID','CityID').join(search_df, ['SearchID'], how='inner')\n",
    "final_df.write.csv(data_path + 'results/final_data.csv', header=True)\n",
    "\n",
    "final_df = spark.read.csv(data_path + 'results/final_data.csv', header=True)\n",
    "final_df = final_df.drop('LocationID','Loc_level','RegionID','CityID','search_CategoryID').join(users_df, ['UserID'], how='inner')\n",
    "final_df = final_df.withColumnRenamed('search_LocationID', 'LocationID' )\n",
    "final_df = final_df.join(location_df, ['LocationID'], how='left')\n",
    "#final_df = final_df.join(category_df, ['CategoryID'], how='left')\n",
    "final_df.write.csv(data_path + 'results/final_train_data.csv', header=True)\n",
    "final_train_data = spark.read.csv(data_path + 'results/final_train_data.csv', header=True)"
   ]
  },
  {
   "cell_type": "code",
   "execution_count": 5,
   "metadata": {},
   "outputs": [
    {
     "name": "stdout",
     "output_type": "stream",
     "text": [
      "+----------+-------+--------+----------+--------+--------+----------+--------+-------+------+---------+---------+----------------+-------------+--------------------+--------------+-----------+-------------+------------+-----------------+---------+--------+------+\n",
      "|LocationID| UserID|SearchID|CategoryID|    AdID|Position|ObjectType| HistCTR|IsClick| Price|IsContext|Cat_level|ParentCategoryID|SubcategoryID|          SearchDate|IsUserLoggedOn|UserAgentID|UserAgentOSID|UserDeviceID|UserAgentFamilyID|Loc_level|RegionID|CityID|\n",
      "+----------+-------+--------+----------+--------+--------+----------+--------+-------+------+---------+---------+----------------+-------------+--------------------+--------------+-----------+-------------+------------+-----------------+---------+--------+------+\n",
      "|      3960|1000016|63640085|        36|33262923|       1|         3|0.002486|      0|159990|        1|        3|              12|            6|2015-05-19 11:42:...|             0|      23170|           20|        2014|               85|        2|      18|   623|\n",
      "|      3960|1000016|86191449|        36|18073349|       1|         3|0.002926|      0| 69990|        1|        3|              12|            6|2015-05-19 11:31:...|             0|      23170|           20|        2014|               85|        2|      18|   623|\n",
      "|      3960|1000016|82317906|        36|11258412|       1|         3|0.007710|      0| 19990|        1|        3|              12|            6|2015-05-19 11:29:...|             0|      23170|           20|        2014|               85|        2|      18|   623|\n",
      "|      3960|1000016|86191449|        36|21144116|       7|         3|0.001100|      0| 91800|        1|        3|              12|            6|2015-05-19 11:31:...|             0|      23170|           20|        2014|               85|        2|      18|   623|\n",
      "|      3960|1000016|82317906|        36|18830057|       7|         3|0.003295|      0| 17900|        1|        3|              12|            6|2015-05-19 11:29:...|             0|      23170|           20|        2014|               85|        2|      18|   623|\n",
      "+----------+-------+--------+----------+--------+--------+----------+--------+-------+------+---------+---------+----------------+-------------+--------------------+--------------+-----------+-------------+------------+-----------------+---------+--------+------+\n",
      "only showing top 5 rows\n",
      "\n"
     ]
    }
   ],
   "source": [
    "final_train_data = spark.read.csv(data_path + 'results/final_train_data.csv', header=True)\n",
    "#Sample the final train data since constrained by resources for running in local on full data\n",
    "sample = final_train_data.sample(False, 0.01, seed=0)\n",
    "sample.write.csv(data_path + 'results/train_data.csv', header=True)"
   ]
  },
  {
   "cell_type": "code",
   "execution_count": 6,
   "metadata": {},
   "outputs": [
    {
     "name": "stdout",
     "output_type": "stream",
     "text": [
      "+----------+-------+---------+----------+--------+--------+----------+--------+-------+-----+---------+---------+----------------+-------------+--------------------+--------------+-----------+-------------+------------+-----------------+---------+--------+------+\n",
      "|LocationID| UserID| SearchID|CategoryID|    AdID|Position|ObjectType| HistCTR|IsClick|Price|IsContext|Cat_level|ParentCategoryID|SubcategoryID|          SearchDate|IsUserLoggedOn|UserAgentID|UserAgentOSID|UserDeviceID|UserAgentFamilyID|Loc_level|RegionID|CityID|\n",
      "+----------+-------+---------+----------+--------+--------+----------+--------+-------+-----+---------+---------+----------------+-------------+--------------------+--------------+-----------+-------------+------------+-----------------+---------+--------+------+\n",
      "|       163|1000727| 92818614|        47|29290269|       1|         3|0.009934|      0| 3090|        1|        3|               3|           28|2015-05-18 21:15:...|             0|      30644|           43|        2014|               25|        3|      14|  1258|\n",
      "|      3679|1001516| 36243385|        38|18294552|       1|         3|0.007823|      0|13300|        1|        3|               9|           44|2015-05-04 13:10:...|             0|      60579|           20|        2014|               62|        3|      50|  1424|\n",
      "|      3953|1002235| 49645280|        25|11297621|       7|         3|0.012500|      0|13514|        1|        3|              12|           19|2015-05-11 14:05:...|             0|      30518|            7|        2014|               25|        2|      47|  1974|\n",
      "|       212|1002850|  9930371|        34|33035050|       7|         3|0.042429|      0| 3940|        1|        3|               6|            7|2015-05-04 15:11:...|             0|      44073|           30|        2019|                9|        3|      20|  1148|\n",
      "|      2319|  10035| 40000806|        34|32622796|       1|         3|0.090682|      0| 3940|        1|        3|               6|            7|2015-05-05 19:15:...|             1|      63091|           20|        2014|               25|        3|      63|  2453|\n",
      "|      2319|  10035|  8500818|        34|22067752|       1|         3|0.012500|      0| 9200|        1|        3|               6|            7|2015-04-27 16:38:...|             1|      63091|           20|        2014|               25|        3|      63|  2453|\n",
      "|      2319|  10035|113041012|        34|25060101|       1|         3|0.003612|      0|28900|        1|        3|               6|            7|2015-05-06 15:19:...|             1|      63091|           20|        2014|               25|        3|      63|  2453|\n",
      "|      2319|  10035| 12675602|        34|33662202|       1|         3|0.006565|      0| 1400|        1|        3|               6|            7|2015-05-12 14:58:...|             0|      63091|           20|        2014|               25|        3|      63|  2453|\n",
      "|      2319|  10035| 91731547|        34| 5098366|       1|         3|0.003699|      0|38700|        1|        3|               6|            7|2015-05-12 14:57:...|             0|      63091|           20|        2014|               25|        3|      63|  2453|\n",
      "|      2277|1003510| 10443365|        46|17259711|       7|         3|0.000662|      0|  492|        1|        3|               8|           40|2015-04-30 22:52:...|             0|      26538|           20|        2014|               62|        3|      57|   194|\n",
      "|      4139|1003738|107220995|        38|25738905|       7|         3|0.002901|      0|50802|        1|        3|               9|           44|2015-05-07 21:38:...|             0|       5825|           20|        2014|               25|        3|       1|  1811|\n",
      "|      4139|1003738| 53058269|        38|20988845|       7|         3|0.004454|      0|11100|        1|        3|               9|           44|2015-05-16 21:11:...|             0|       5825|           20|        2014|               25|        3|       1|  1811|\n",
      "|      4029|1003784| 39070991|        60| 8799267|       1|         3|0.043649|      0| 1575|        1|        3|               3|           43|2015-05-16 14:37:...|             0|      55731|           20|        2014|               64|        3|      55|  1294|\n",
      "|      4029|1003784|107933883|        60|29417389|       1|         3|0.002837|      0|10500|        1|        3|               3|           43|2015-05-16 14:36:...|             0|      55731|           20|        2014|               64|        3|      55|  1294|\n",
      "|      3960|1004241| 83868567|        34|33155640|       1|         3|0.002307|      0|21500|        1|        3|               6|            7|2015-05-12 21:52:...|             0|      10275|           20|        2014|               25|        2|      18|   623|\n",
      "|      3960|1004241| 24985500|        34|33155640|       1|         3|0.002307|      0|21500|        1|        3|               6|            7|2015-05-12 21:56:...|             0|      10275|           20|        2014|               25|        2|      18|   623|\n",
      "|      2694|1004276| 24965477|        41|32767189|       7|         3|0.009212|      0|14990|        1|        3|              12|           42|2015-05-15 16:58:...|             0|      10570|           30|        2019|               72|        2|      42|  1832|\n",
      "|      3771| 100432| 42593998|        47|18496972|       1|         3|0.007694|      0| 5990|        1|        3|               3|           28|2015-04-30 19:33:...|             1|        760|           20|        2014|               25|        3|      42|   970|\n",
      "|      3771| 100432| 60711723|        47|19296443|       1|         3|0.007814|      0|28139|        1|        3|               3|           28|2015-05-07 10:32:...|             1|        760|           20|        2014|               25|        3|      42|   970|\n",
      "|      3771| 100432| 65235285|        50|25144740|       1|         3|0.007738|      0| 1300|        1|        3|               9|           23|2015-04-30 19:38:...|             1|        760|           20|        2014|               25|        3|      42|   970|\n",
      "+----------+-------+---------+----------+--------+--------+----------+--------+-------+-----+---------+---------+----------------+-------------+--------------------+--------------+-----------+-------------+------------+-----------------+---------+--------+------+\n",
      "only showing top 20 rows\n",
      "\n"
     ]
    }
   ],
   "source": [
    "sample = spark.read.csv(data_path + 'results/train_data.csv', header=True)\n",
    "sample.show()"
   ]
  },
  {
   "cell_type": "code",
   "execution_count": 19,
   "metadata": {},
   "outputs": [],
   "source": [
    "cols = sample.columns\n",
    "#convert from string to float\n",
    "from pyspark.sql.types import FloatType\n",
    "sample = sample.withColumn(\"HistCTR\", sample[\"HistCTR\"].cast(FloatType()))\n",
    "sample = sample.withColumn(\"Price\", sample[\"Price\"].cast(FloatType()))\n"
   ]
  },
  {
   "cell_type": "code",
   "execution_count": 31,
   "metadata": {},
   "outputs": [],
   "source": [
    "from pyspark.ml.feature import OneHotEncoderEstimator, StringIndexer, VectorAssembler\n",
    "#Index and one-hot encode categorical columns\n",
    "categorical_coulmns = ['Position','ParentCategoryID','SubcategoryID',\n",
    "                       'IsUserLoggedOn','UserAgentID', 'UserAgentOSID','UserDeviceID','UserAgentFamilyID',\n",
    "                       'RegionID', 'CityID']\n",
    "stages = []\n",
    "for catcol in categorical_coulmns:\n",
    "    stringIndexer = StringIndexer(inputCol = catcol, outputCol = catcol + 'Index',handleInvalid=\"skip\")\n",
    "    encoder = OneHotEncoderEstimator(inputCols=[stringIndexer.getOutputCol()], outputCols=[catcol + \"classVec\"])\n",
    "    stages += [stringIndexer, encoder]\n",
    "    \n",
    "label_stringIdx = StringIndexer(inputCol = 'IsClick', outputCol = 'label',handleInvalid=\"skip\")\n",
    "stages += [label_stringIdx]\n",
    "\n",
    "\n",
    "numericCols = ['HistCTR', 'Price']\n",
    "assemblerInputs = [c + \"classVec\" for c in categorical_coulmns] + numericCols\n",
    "assembler = VectorAssembler(inputCols=assemblerInputs, outputCol=\"features\")\n",
    "stages += [assembler]\n"
   ]
  },
  {
   "cell_type": "code",
   "execution_count": 32,
   "metadata": {},
   "outputs": [
    {
     "name": "stdout",
     "output_type": "stream",
     "text": [
      "root\n",
      " |-- label: double (nullable = false)\n",
      " |-- features: vector (nullable = true)\n",
      " |-- LocationID: string (nullable = true)\n",
      " |-- UserID: string (nullable = true)\n",
      " |-- SearchID: string (nullable = true)\n",
      " |-- CategoryID: string (nullable = true)\n",
      " |-- AdID: string (nullable = true)\n",
      " |-- Position: string (nullable = true)\n",
      " |-- ObjectType: string (nullable = true)\n",
      " |-- HistCTR: float (nullable = true)\n",
      " |-- IsClick: string (nullable = true)\n",
      " |-- Price: float (nullable = true)\n",
      " |-- IsContext: string (nullable = true)\n",
      " |-- Cat_level: string (nullable = true)\n",
      " |-- ParentCategoryID: string (nullable = true)\n",
      " |-- SubcategoryID: string (nullable = true)\n",
      " |-- SearchDate: string (nullable = true)\n",
      " |-- IsUserLoggedOn: string (nullable = true)\n",
      " |-- UserAgentID: string (nullable = true)\n",
      " |-- UserAgentOSID: string (nullable = true)\n",
      " |-- UserDeviceID: string (nullable = true)\n",
      " |-- UserAgentFamilyID: string (nullable = true)\n",
      " |-- Loc_level: string (nullable = true)\n",
      " |-- RegionID: string (nullable = true)\n",
      " |-- CityID: string (nullable = true)\n",
      "\n"
     ]
    }
   ],
   "source": [
    "from pyspark.ml import Pipeline\n",
    "pipeline = Pipeline(stages = stages)\n",
    "pipelineModel = pipeline.fit(sample)\n",
    "df = pipelineModel.transform(sample)\n",
    "selectedCols = ['label', 'features'] + cols\n",
    "df = df.select(selectedCols)\n",
    "df.printSchema()"
   ]
  },
  {
   "cell_type": "code",
   "execution_count": 33,
   "metadata": {},
   "outputs": [
    {
     "data": {
      "text/html": [
       "<div>\n",
       "<style scoped>\n",
       "    .dataframe tbody tr th:only-of-type {\n",
       "        vertical-align: middle;\n",
       "    }\n",
       "\n",
       "    .dataframe tbody tr th {\n",
       "        vertical-align: top;\n",
       "    }\n",
       "\n",
       "    .dataframe thead th {\n",
       "        text-align: right;\n",
       "    }\n",
       "</style>\n",
       "<table border=\"1\" class=\"dataframe\">\n",
       "  <thead>\n",
       "    <tr style=\"text-align: right;\">\n",
       "      <th></th>\n",
       "      <th>0</th>\n",
       "      <th>1</th>\n",
       "      <th>2</th>\n",
       "      <th>3</th>\n",
       "      <th>4</th>\n",
       "    </tr>\n",
       "  </thead>\n",
       "  <tbody>\n",
       "    <tr>\n",
       "      <td>label</td>\n",
       "      <td>0</td>\n",
       "      <td>0</td>\n",
       "      <td>0</td>\n",
       "      <td>0</td>\n",
       "      <td>0</td>\n",
       "    </tr>\n",
       "    <tr>\n",
       "      <td>features</td>\n",
       "      <td>(1.0, 1.0, 0.0, 0.0, 0.0, 0.0, 0.0, 0.0, 0.0, ...</td>\n",
       "      <td>(1.0, 0.0, 1.0, 0.0, 0.0, 0.0, 0.0, 0.0, 0.0, ...</td>\n",
       "      <td>(0.0, 0.0, 0.0, 0.0, 1.0, 0.0, 0.0, 0.0, 0.0, ...</td>\n",
       "      <td>(0.0, 0.0, 0.0, 1.0, 0.0, 0.0, 0.0, 1.0, 0.0, ...</td>\n",
       "      <td>(1.0, 0.0, 0.0, 1.0, 0.0, 0.0, 0.0, 1.0, 0.0, ...</td>\n",
       "    </tr>\n",
       "    <tr>\n",
       "      <td>LocationID</td>\n",
       "      <td>163</td>\n",
       "      <td>3679</td>\n",
       "      <td>3953</td>\n",
       "      <td>212</td>\n",
       "      <td>2319</td>\n",
       "    </tr>\n",
       "    <tr>\n",
       "      <td>UserID</td>\n",
       "      <td>1000727</td>\n",
       "      <td>1001516</td>\n",
       "      <td>1002235</td>\n",
       "      <td>1002850</td>\n",
       "      <td>10035</td>\n",
       "    </tr>\n",
       "    <tr>\n",
       "      <td>SearchID</td>\n",
       "      <td>92818614</td>\n",
       "      <td>36243385</td>\n",
       "      <td>49645280</td>\n",
       "      <td>9930371</td>\n",
       "      <td>40000806</td>\n",
       "    </tr>\n",
       "    <tr>\n",
       "      <td>CategoryID</td>\n",
       "      <td>47</td>\n",
       "      <td>38</td>\n",
       "      <td>25</td>\n",
       "      <td>34</td>\n",
       "      <td>34</td>\n",
       "    </tr>\n",
       "    <tr>\n",
       "      <td>AdID</td>\n",
       "      <td>29290269</td>\n",
       "      <td>18294552</td>\n",
       "      <td>11297621</td>\n",
       "      <td>33035050</td>\n",
       "      <td>32622796</td>\n",
       "    </tr>\n",
       "    <tr>\n",
       "      <td>Position</td>\n",
       "      <td>1</td>\n",
       "      <td>1</td>\n",
       "      <td>7</td>\n",
       "      <td>7</td>\n",
       "      <td>1</td>\n",
       "    </tr>\n",
       "    <tr>\n",
       "      <td>ObjectType</td>\n",
       "      <td>3</td>\n",
       "      <td>3</td>\n",
       "      <td>3</td>\n",
       "      <td>3</td>\n",
       "      <td>3</td>\n",
       "    </tr>\n",
       "    <tr>\n",
       "      <td>HistCTR</td>\n",
       "      <td>0.009934</td>\n",
       "      <td>0.007823</td>\n",
       "      <td>0.0125</td>\n",
       "      <td>0.042429</td>\n",
       "      <td>0.090682</td>\n",
       "    </tr>\n",
       "    <tr>\n",
       "      <td>IsClick</td>\n",
       "      <td>0</td>\n",
       "      <td>0</td>\n",
       "      <td>0</td>\n",
       "      <td>0</td>\n",
       "      <td>0</td>\n",
       "    </tr>\n",
       "    <tr>\n",
       "      <td>Price</td>\n",
       "      <td>3090</td>\n",
       "      <td>13300</td>\n",
       "      <td>13514</td>\n",
       "      <td>3940</td>\n",
       "      <td>3940</td>\n",
       "    </tr>\n",
       "    <tr>\n",
       "      <td>IsContext</td>\n",
       "      <td>1</td>\n",
       "      <td>1</td>\n",
       "      <td>1</td>\n",
       "      <td>1</td>\n",
       "      <td>1</td>\n",
       "    </tr>\n",
       "    <tr>\n",
       "      <td>Cat_level</td>\n",
       "      <td>3</td>\n",
       "      <td>3</td>\n",
       "      <td>3</td>\n",
       "      <td>3</td>\n",
       "      <td>3</td>\n",
       "    </tr>\n",
       "    <tr>\n",
       "      <td>ParentCategoryID</td>\n",
       "      <td>3</td>\n",
       "      <td>9</td>\n",
       "      <td>12</td>\n",
       "      <td>6</td>\n",
       "      <td>6</td>\n",
       "    </tr>\n",
       "    <tr>\n",
       "      <td>SubcategoryID</td>\n",
       "      <td>28</td>\n",
       "      <td>44</td>\n",
       "      <td>19</td>\n",
       "      <td>7</td>\n",
       "      <td>7</td>\n",
       "    </tr>\n",
       "    <tr>\n",
       "      <td>SearchDate</td>\n",
       "      <td>2015-05-18 21:15:50.0</td>\n",
       "      <td>2015-05-04 13:10:48.0</td>\n",
       "      <td>2015-05-11 14:05:58.0</td>\n",
       "      <td>2015-05-04 15:11:53.0</td>\n",
       "      <td>2015-05-05 19:15:48.0</td>\n",
       "    </tr>\n",
       "    <tr>\n",
       "      <td>IsUserLoggedOn</td>\n",
       "      <td>0</td>\n",
       "      <td>0</td>\n",
       "      <td>0</td>\n",
       "      <td>0</td>\n",
       "      <td>1</td>\n",
       "    </tr>\n",
       "    <tr>\n",
       "      <td>UserAgentID</td>\n",
       "      <td>30644</td>\n",
       "      <td>60579</td>\n",
       "      <td>30518</td>\n",
       "      <td>44073</td>\n",
       "      <td>63091</td>\n",
       "    </tr>\n",
       "    <tr>\n",
       "      <td>UserAgentOSID</td>\n",
       "      <td>43</td>\n",
       "      <td>20</td>\n",
       "      <td>7</td>\n",
       "      <td>30</td>\n",
       "      <td>20</td>\n",
       "    </tr>\n",
       "    <tr>\n",
       "      <td>UserDeviceID</td>\n",
       "      <td>2014</td>\n",
       "      <td>2014</td>\n",
       "      <td>2014</td>\n",
       "      <td>2019</td>\n",
       "      <td>2014</td>\n",
       "    </tr>\n",
       "    <tr>\n",
       "      <td>UserAgentFamilyID</td>\n",
       "      <td>25</td>\n",
       "      <td>62</td>\n",
       "      <td>25</td>\n",
       "      <td>9</td>\n",
       "      <td>25</td>\n",
       "    </tr>\n",
       "    <tr>\n",
       "      <td>Loc_level</td>\n",
       "      <td>3</td>\n",
       "      <td>3</td>\n",
       "      <td>2</td>\n",
       "      <td>3</td>\n",
       "      <td>3</td>\n",
       "    </tr>\n",
       "    <tr>\n",
       "      <td>RegionID</td>\n",
       "      <td>14</td>\n",
       "      <td>50</td>\n",
       "      <td>47</td>\n",
       "      <td>20</td>\n",
       "      <td>63</td>\n",
       "    </tr>\n",
       "    <tr>\n",
       "      <td>CityID</td>\n",
       "      <td>1258</td>\n",
       "      <td>1424</td>\n",
       "      <td>1974</td>\n",
       "      <td>1148</td>\n",
       "      <td>2453</td>\n",
       "    </tr>\n",
       "  </tbody>\n",
       "</table>\n",
       "</div>"
      ],
      "text/plain": [
       "                                                                   0  \\\n",
       "label                                                              0   \n",
       "features           (1.0, 1.0, 0.0, 0.0, 0.0, 0.0, 0.0, 0.0, 0.0, ...   \n",
       "LocationID                                                       163   \n",
       "UserID                                                       1000727   \n",
       "SearchID                                                    92818614   \n",
       "CategoryID                                                        47   \n",
       "AdID                                                        29290269   \n",
       "Position                                                           1   \n",
       "ObjectType                                                         3   \n",
       "HistCTR                                                     0.009934   \n",
       "IsClick                                                            0   \n",
       "Price                                                           3090   \n",
       "IsContext                                                          1   \n",
       "Cat_level                                                          3   \n",
       "ParentCategoryID                                                   3   \n",
       "SubcategoryID                                                     28   \n",
       "SearchDate                                     2015-05-18 21:15:50.0   \n",
       "IsUserLoggedOn                                                     0   \n",
       "UserAgentID                                                    30644   \n",
       "UserAgentOSID                                                     43   \n",
       "UserDeviceID                                                    2014   \n",
       "UserAgentFamilyID                                                 25   \n",
       "Loc_level                                                          3   \n",
       "RegionID                                                          14   \n",
       "CityID                                                          1258   \n",
       "\n",
       "                                                                   1  \\\n",
       "label                                                              0   \n",
       "features           (1.0, 0.0, 1.0, 0.0, 0.0, 0.0, 0.0, 0.0, 0.0, ...   \n",
       "LocationID                                                      3679   \n",
       "UserID                                                       1001516   \n",
       "SearchID                                                    36243385   \n",
       "CategoryID                                                        38   \n",
       "AdID                                                        18294552   \n",
       "Position                                                           1   \n",
       "ObjectType                                                         3   \n",
       "HistCTR                                                     0.007823   \n",
       "IsClick                                                            0   \n",
       "Price                                                          13300   \n",
       "IsContext                                                          1   \n",
       "Cat_level                                                          3   \n",
       "ParentCategoryID                                                   9   \n",
       "SubcategoryID                                                     44   \n",
       "SearchDate                                     2015-05-04 13:10:48.0   \n",
       "IsUserLoggedOn                                                     0   \n",
       "UserAgentID                                                    60579   \n",
       "UserAgentOSID                                                     20   \n",
       "UserDeviceID                                                    2014   \n",
       "UserAgentFamilyID                                                 62   \n",
       "Loc_level                                                          3   \n",
       "RegionID                                                          50   \n",
       "CityID                                                          1424   \n",
       "\n",
       "                                                                   2  \\\n",
       "label                                                              0   \n",
       "features           (0.0, 0.0, 0.0, 0.0, 1.0, 0.0, 0.0, 0.0, 0.0, ...   \n",
       "LocationID                                                      3953   \n",
       "UserID                                                       1002235   \n",
       "SearchID                                                    49645280   \n",
       "CategoryID                                                        25   \n",
       "AdID                                                        11297621   \n",
       "Position                                                           7   \n",
       "ObjectType                                                         3   \n",
       "HistCTR                                                       0.0125   \n",
       "IsClick                                                            0   \n",
       "Price                                                          13514   \n",
       "IsContext                                                          1   \n",
       "Cat_level                                                          3   \n",
       "ParentCategoryID                                                  12   \n",
       "SubcategoryID                                                     19   \n",
       "SearchDate                                     2015-05-11 14:05:58.0   \n",
       "IsUserLoggedOn                                                     0   \n",
       "UserAgentID                                                    30518   \n",
       "UserAgentOSID                                                      7   \n",
       "UserDeviceID                                                    2014   \n",
       "UserAgentFamilyID                                                 25   \n",
       "Loc_level                                                          2   \n",
       "RegionID                                                          47   \n",
       "CityID                                                          1974   \n",
       "\n",
       "                                                                   3  \\\n",
       "label                                                              0   \n",
       "features           (0.0, 0.0, 0.0, 1.0, 0.0, 0.0, 0.0, 1.0, 0.0, ...   \n",
       "LocationID                                                       212   \n",
       "UserID                                                       1002850   \n",
       "SearchID                                                     9930371   \n",
       "CategoryID                                                        34   \n",
       "AdID                                                        33035050   \n",
       "Position                                                           7   \n",
       "ObjectType                                                         3   \n",
       "HistCTR                                                     0.042429   \n",
       "IsClick                                                            0   \n",
       "Price                                                           3940   \n",
       "IsContext                                                          1   \n",
       "Cat_level                                                          3   \n",
       "ParentCategoryID                                                   6   \n",
       "SubcategoryID                                                      7   \n",
       "SearchDate                                     2015-05-04 15:11:53.0   \n",
       "IsUserLoggedOn                                                     0   \n",
       "UserAgentID                                                    44073   \n",
       "UserAgentOSID                                                     30   \n",
       "UserDeviceID                                                    2019   \n",
       "UserAgentFamilyID                                                  9   \n",
       "Loc_level                                                          3   \n",
       "RegionID                                                          20   \n",
       "CityID                                                          1148   \n",
       "\n",
       "                                                                   4  \n",
       "label                                                              0  \n",
       "features           (1.0, 0.0, 0.0, 1.0, 0.0, 0.0, 0.0, 1.0, 0.0, ...  \n",
       "LocationID                                                      2319  \n",
       "UserID                                                         10035  \n",
       "SearchID                                                    40000806  \n",
       "CategoryID                                                        34  \n",
       "AdID                                                        32622796  \n",
       "Position                                                           1  \n",
       "ObjectType                                                         3  \n",
       "HistCTR                                                     0.090682  \n",
       "IsClick                                                            0  \n",
       "Price                                                           3940  \n",
       "IsContext                                                          1  \n",
       "Cat_level                                                          3  \n",
       "ParentCategoryID                                                   6  \n",
       "SubcategoryID                                                      7  \n",
       "SearchDate                                     2015-05-05 19:15:48.0  \n",
       "IsUserLoggedOn                                                     1  \n",
       "UserAgentID                                                    63091  \n",
       "UserAgentOSID                                                     20  \n",
       "UserDeviceID                                                    2014  \n",
       "UserAgentFamilyID                                                 25  \n",
       "Loc_level                                                          3  \n",
       "RegionID                                                          63  \n",
       "CityID                                                          2453  "
      ]
     },
     "execution_count": 33,
     "metadata": {},
     "output_type": "execute_result"
    }
   ],
   "source": [
    "import pandas as pd\n",
    "pd.DataFrame(df.take(5), columns=df.columns).transpose()"
   ]
  },
  {
   "cell_type": "code",
   "execution_count": 34,
   "metadata": {},
   "outputs": [
    {
     "name": "stdout",
     "output_type": "stream",
     "text": [
      "Training Dataset Count: 1290355\n",
      "Test Dataset Count: 553872\n"
     ]
    }
   ],
   "source": [
    "#Split the data into training and testing\n",
    "train, test = df.randomSplit([0.7, 0.3], seed = 2020)\n",
    "print(\"Training Dataset Count: \" + str(train.count()))\n",
    "print(\"Test Dataset Count: \" + str(test.count()))\n"
   ]
  },
  {
   "cell_type": "code",
   "execution_count": 35,
   "metadata": {},
   "outputs": [],
   "source": [
    "#Fit a LR model\n",
    "from pyspark.ml.classification import LogisticRegression\n",
    "lr = LogisticRegression(featuresCol = 'features', labelCol = 'label', maxIter=10)\n",
    "lrModel = lr.fit(train)\n"
   ]
  },
  {
   "cell_type": "code",
   "execution_count": 39,
   "metadata": {},
   "outputs": [
    {
     "data": {
      "image/png": "[encoded data removed]",
      "text/plain": [
       "<Figure size 432x288 with 1 Axes>"
      ]
     },
     "metadata": {
      "needs_background": "light"
     },
     "output_type": "display_data"
    },
    {
     "name": "stdout",
     "output_type": "stream",
     "text": [
      "Training set areaUnderROC: 0.73245018752254\n"
     ]
    }
   ],
   "source": [
    "import matplotlib.pyplot as plt\n",
    "trainingSummary = lrModel.summary\n",
    "roc = trainingSummary.roc.toPandas()\n",
    "plt.plot(roc['FPR'],roc['TPR'])\n",
    "plt.ylabel('False Positive Rate')\n",
    "plt.xlabel('True Positive Rate')\n",
    "plt.title('ROC Curve')\n",
    "plt.show()\n",
    "print('Training set areaUnderROC: ' + str(trainingSummary.areaUnderROC))\n"
   ]
  },
  {
   "cell_type": "code",
   "execution_count": 40,
   "metadata": {},
   "outputs": [
    {
     "data": {
      "image/png": "[encoded data removed]",
      "text/plain": [
       "<Figure size 432x288 with 1 Axes>"
      ]
     },
     "metadata": {
      "needs_background": "light"
     },
     "output_type": "display_data"
    }
   ],
   "source": [
    "pr = trainingSummary.pr.toPandas()\n",
    "plt.plot(pr['recall'],pr['precision'])\n",
    "plt.ylabel('Precision')\n",
    "plt.xlabel('Recall')\n",
    "plt.show()\n"
   ]
  },
  {
   "cell_type": "code",
   "execution_count": 41,
   "metadata": {},
   "outputs": [
    {
     "name": "stdout",
     "output_type": "stream",
     "text": [
      "+-----+--------------------+----------+--------------------+\n",
      "|label|       rawPrediction|prediction|         probability|\n",
      "+-----+--------------------+----------+--------------------+\n",
      "|  0.0|[5.83085837292583...|       0.0|[0.99707303616994...|\n",
      "|  0.0|[5.83086519053341...|       0.0|[0.99707305606635...|\n",
      "|  0.0|[5.82513471968383...|       0.0|[0.99705628466560...|\n",
      "|  0.0|[5.82049547762849...|       0.0|[0.99704263681180...|\n",
      "|  0.0|[5.82006752648770...|       0.0|[0.99704137467926...|\n",
      "|  0.0|[5.81882413767472...|       0.0|[0.99703770457388...|\n",
      "|  0.0|[5.81842546145661...|       0.0|[0.99703652684225...|\n",
      "|  0.0|[5.81671366757751...|       0.0|[0.99703146471456...|\n",
      "|  0.0|[5.81637448894061...|       0.0|[0.99703046067046...|\n",
      "|  0.0|[5.81630977375122...|       0.0|[0.99703026906067...|\n",
      "+-----+--------------------+----------+--------------------+\n",
      "only showing top 10 rows\n",
      "\n"
     ]
    }
   ],
   "source": [
    "predictions = lrModel.transform(test)\n",
    "predictions.select('label', 'rawPrediction', 'prediction', 'probability').show(10)\n"
   ]
  },
  {
   "cell_type": "code",
   "execution_count": 42,
   "metadata": {},
   "outputs": [
    {
     "name": "stdout",
     "output_type": "stream",
     "text": [
      "Test Area Under ROC 0.6136698146103157\n"
     ]
    }
   ],
   "source": [
    "from pyspark.ml.evaluation import BinaryClassificationEvaluator\n",
    "evaluator = BinaryClassificationEvaluator()\n",
    "print('Test Area Under ROC', evaluator.evaluate(predictions))\n"
   ]
  },
  {
   "cell_type": "code",
   "execution_count": 43,
   "metadata": {},
   "outputs": [],
   "source": [
    "sc.stop()\n"
   ]
  }
 ],
 "metadata": {
  "kernelspec": {
   "display_name": "Python 3",
   "language": "python",
   "name": "python3"
  },
  "language_info": {
   "codemirror_mode": {
    "name": "ipython",
    "version": 3
   },
   "file_extension": ".py",
   "mimetype": "text/x-python",
   "name": "python",
   "nbconvert_exporter": "python",
   "pygments_lexer": "ipython3",
   "version": "3.7.4"
  }
 },
 "nbformat": 4,
 "nbformat_minor": 4
}
